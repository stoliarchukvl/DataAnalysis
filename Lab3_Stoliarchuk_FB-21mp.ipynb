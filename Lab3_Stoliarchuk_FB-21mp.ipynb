{
 "cells": [
  {
   "cell_type": "code",
   "execution_count": 1,
   "id": "408f6475",
   "metadata": {
    "scrolled": true
   },
   "outputs": [
    {
     "name": "stderr",
     "output_type": "stream",
     "text": [
      "2023-01-25 12:12:46.077810: I tensorflow/core/platform/cpu_feature_guard.cc:193] This TensorFlow binary is optimized with oneAPI Deep Neural Network Library (oneDNN) to use the following CPU instructions in performance-critical operations:  AVX2\n",
      "To enable them in other operations, rebuild TensorFlow with the appropriate compiler flags.\n",
      "2023-01-25 12:12:47.083568: W tensorflow/compiler/xla/stream_executor/platform/default/dso_loader.cc:64] Could not load dynamic library 'libcudart.so.11.0'; dlerror: libcudart.so.11.0: cannot open shared object file: No such file or directory; LD_LIBRARY_PATH: /home/kali/.local/lib/python3.9/site-packages/cv2/../../lib64:\n",
      "2023-01-25 12:12:47.083611: I tensorflow/compiler/xla/stream_executor/cuda/cudart_stub.cc:29] Ignore above cudart dlerror if you do not have a GPU set up on your machine.\n",
      "2023-01-25 12:12:51.505833: W tensorflow/compiler/xla/stream_executor/platform/default/dso_loader.cc:64] Could not load dynamic library 'libnvinfer.so.7'; dlerror: libnvinfer.so.7: cannot open shared object file: No such file or directory; LD_LIBRARY_PATH: /home/kali/.local/lib/python3.9/site-packages/cv2/../../lib64:\n",
      "2023-01-25 12:12:51.506144: W tensorflow/compiler/xla/stream_executor/platform/default/dso_loader.cc:64] Could not load dynamic library 'libnvinfer_plugin.so.7'; dlerror: libnvinfer_plugin.so.7: cannot open shared object file: No such file or directory; LD_LIBRARY_PATH: /home/kali/.local/lib/python3.9/site-packages/cv2/../../lib64:\n",
      "2023-01-25 12:12:51.506168: W tensorflow/compiler/tf2tensorrt/utils/py_utils.cc:38] TF-TRT Warning: Cannot dlopen some TensorRT libraries. If you would like to use Nvidia GPU with TensorRT, please make sure the missing libraries mentioned above are installed properly.\n"
     ]
    }
   ],
   "source": [
    "import numpy as np\n",
    "import string\n",
    "import cv2\n",
    "import pandas as pd\n",
    "import matplotlib.pyplot as plt\n",
    "import os\n",
    "import re\n",
    "from keras.utils import to_categorical\n",
    "from sklearn.utils import shuffle\n",
    "from tensorflow import keras\n",
    "from tensorflow.keras import layers\n",
    "from tensorflow.keras.utils import img_to_array\n",
    "from keras.layers import Flatten\n",
    "from keras.layers import Dense\n",
    "from keras.layers import Bidirectional\n",
    "from keras.models import Sequential\n",
    "from keras.layers import Convolution2D\n",
    "from keras.layers import MaxPooling2D\n",
    "from tensorflow.keras.utils import load_img\n",
    "from keras.layers import Embedding, Dense, Dropout, GlobalMaxPooling1D, MaxPool2D, SimpleRNN, Flatten, BatchNormalization, Conv2D\n",
    "from tensorflow.keras.preprocessing.text import Tokenizer\n",
    "from tensorflow.keras.preprocessing.sequence import pad_sequences\n",
    "from tensorflow.keras.preprocessing.image import ImageDataGenerator, load_img, img_to_array\n",
    "from sklearn.metrics import classification_report, confusion_matrix, accuracy_score\n",
    "from sklearn.model_selection import train_test_split\n",
    "from sklearn.preprocessing import StandardScaler\n",
    "from keras.models import Sequential\n",
    "from tensorflow.keras.utils import array_to_img\n",
    "import tensorflow as tf\n",
    "%matplotlib inline"
   ]
  },
  {
   "cell_type": "code",
   "execution_count": 2,
   "id": "c427900c",
   "metadata": {},
   "outputs": [
    {
     "name": "stdout",
     "output_type": "stream",
     "text": [
      "Index(['model_name', 'price', 'CC', 'mileage', 'type_of_bike', 'weight_in_kg',\n",
      "       'links', 'acceleration_speed', 'top_speed'],\n",
      "      dtype='object')\n",
      "(361, 9)\n"
     ]
    },
    {
     "data": {
      "text/plain": [
       "model_name            0\n",
       "price                 0\n",
       "CC                    0\n",
       "mileage               0\n",
       "type_of_bike          0\n",
       "weight_in_kg          0\n",
       "links                 0\n",
       "acceleration_speed    0\n",
       "top_speed             0\n",
       "dtype: int64"
      ]
     },
     "execution_count": 2,
     "metadata": {},
     "output_type": "execute_result"
    }
   ],
   "source": [
    "# Task 1\n",
    "bike_india = pd.read_csv(\"/home/Stoliarchuk/bike_dataset.csv\")\n",
    "print(bike_india.columns)\n",
    "print(bike_india.shape)\n",
    "bike_india = bike_india.dropna() \n",
    "bike_india.isnull().sum()"
   ]
  },
  {
   "cell_type": "code",
   "execution_count": 4,
   "id": "6e1a7855",
   "metadata": {},
   "outputs": [
    {
     "name": "stdout",
     "output_type": "stream",
     "text": [
      "(96, 2)\n",
      "(96,)\n"
     ]
    }
   ],
   "source": [
    "bike_india_only_float  = bike_india.drop(columns=['type_of_bike', 'links', 'model_name', 'acceleration_speed','weight_in_kg', 'top_speed'], axis=1)\n",
    "x = bike_india_only_float.drop(['price'], axis=1)\n",
    "y = bike_india_only_float['price']\n",
    "x_train, x_test, y_train, y_test = train_test_split(x, y, test_size=0.30)\n",
    "print(x_train.shape)\n",
    "print(y_train.shape)"
   ]
  },
  {
   "cell_type": "code",
   "execution_count": 5,
   "id": "1bc9a50d",
   "metadata": {},
   "outputs": [],
   "source": [
    "model = Sequential()\n",
    "model.add(layers.Dense(32, activation=\"relu\"))\n",
    "model.add(layers.Dense(32, activation=\"relu\"))\n",
    "model.add(Dense(1, activation='sigmoid'))\n",
    "model.add(layers.Flatten())\n",
    "model.build(input_shape=(None, 2)) "
   ]
  },
  {
   "cell_type": "code",
   "execution_count": 6,
   "id": "a0916b0d",
   "metadata": {},
   "outputs": [
    {
     "name": "stdout",
     "output_type": "stream",
     "text": [
      "Model: \"sequential\"\n",
      "_________________________________________________________________\n",
      " Layer (type)                Output Shape              Param #   \n",
      "=================================================================\n",
      " dense (Dense)               (None, 32)                96        \n",
      "                                                                 \n",
      " dense_1 (Dense)             (None, 32)                1056      \n",
      "                                                                 \n",
      " dense_2 (Dense)             (None, 1)                 33        \n",
      "                                                                 \n",
      " flatten (Flatten)           (None, 1)                 0         \n",
      "                                                                 \n",
      "=================================================================\n",
      "Total params: 1,185\n",
      "Trainable params: 1,185\n",
      "Non-trainable params: 0\n",
      "_________________________________________________________________\n"
     ]
    }
   ],
   "source": [
    "model.summary()"
   ]
  },
  {
   "cell_type": "code",
   "execution_count": 9,
   "id": "bf97f426",
   "metadata": {
    "scrolled": false
   },
   "outputs": [
    {
     "name": "stdout",
     "output_type": "stream",
     "text": [
      "Epoch 1/100\n",
      "3/3 [==============================] - 1s 125ms/step - loss: -2542744.0000 - accuracy: 0.0000e+00 - val_loss: -2402608.5000 - val_accuracy: 0.0000e+00\n",
      "Epoch 2/100\n",
      "3/3 [==============================] - 0s 25ms/step - loss: -2542744.0000 - accuracy: 0.0000e+00 - val_loss: -2402608.5000 - val_accuracy: 0.0000e+00\n",
      "Epoch 3/100\n",
      "3/3 [==============================] - 0s 33ms/step - loss: -2542744.0000 - accuracy: 0.0000e+00 - val_loss: -2402608.5000 - val_accuracy: 0.0000e+00\n",
      "Epoch 4/100\n",
      "3/3 [==============================] - 0s 28ms/step - loss: -2542744.0000 - accuracy: 0.0000e+00 - val_loss: -2402608.5000 - val_accuracy: 0.0000e+00\n",
      "Epoch 5/100\n",
      "3/3 [==============================] - 0s 28ms/step - loss: -2542744.0000 - accuracy: 0.0000e+00 - val_loss: -2402608.5000 - val_accuracy: 0.0000e+00\n",
      "Epoch 6/100\n",
      "3/3 [==============================] - 0s 28ms/step - loss: -2542744.0000 - accuracy: 0.0000e+00 - val_loss: -2402608.5000 - val_accuracy: 0.0000e+00\n",
      "Epoch 7/100\n",
      "3/3 [==============================] - 0s 29ms/step - loss: -2542744.0000 - accuracy: 0.0000e+00 - val_loss: -2402608.5000 - val_accuracy: 0.0000e+00\n",
      "Epoch 8/100\n",
      "3/3 [==============================] - 0s 25ms/step - loss: -2542744.0000 - accuracy: 0.0000e+00 - val_loss: -2402608.5000 - val_accuracy: 0.0000e+00\n",
      "Epoch 9/100\n",
      "3/3 [==============================] - 0s 26ms/step - loss: -2542744.0000 - accuracy: 0.0000e+00 - val_loss: -2402608.5000 - val_accuracy: 0.0000e+00\n",
      "Epoch 10/100\n",
      "3/3 [==============================] - 0s 27ms/step - loss: -2542744.0000 - accuracy: 0.0000e+00 - val_loss: -2402608.5000 - val_accuracy: 0.0000e+00\n",
      "Epoch 11/100\n",
      "3/3 [==============================] - 0s 28ms/step - loss: -2542744.0000 - accuracy: 0.0000e+00 - val_loss: -2402608.5000 - val_accuracy: 0.0000e+00\n",
      "Epoch 12/100\n",
      "3/3 [==============================] - 0s 25ms/step - loss: -2542744.0000 - accuracy: 0.0000e+00 - val_loss: -2402608.5000 - val_accuracy: 0.0000e+00\n",
      "Epoch 13/100\n",
      "3/3 [==============================] - 0s 28ms/step - loss: -2542744.0000 - accuracy: 0.0000e+00 - val_loss: -2402608.5000 - val_accuracy: 0.0000e+00\n",
      "Epoch 14/100\n",
      "3/3 [==============================] - 0s 27ms/step - loss: -2542744.0000 - accuracy: 0.0000e+00 - val_loss: -2402608.5000 - val_accuracy: 0.0000e+00\n",
      "Epoch 15/100\n",
      "3/3 [==============================] - 0s 28ms/step - loss: -2542744.0000 - accuracy: 0.0000e+00 - val_loss: -2402608.5000 - val_accuracy: 0.0000e+00\n",
      "Epoch 16/100\n",
      "3/3 [==============================] - 0s 28ms/step - loss: -2542744.0000 - accuracy: 0.0000e+00 - val_loss: -2402608.5000 - val_accuracy: 0.0000e+00\n",
      "Epoch 17/100\n",
      "3/3 [==============================] - 0s 23ms/step - loss: -2542744.0000 - accuracy: 0.0000e+00 - val_loss: -2402608.5000 - val_accuracy: 0.0000e+00\n",
      "Epoch 18/100\n",
      "3/3 [==============================] - 0s 26ms/step - loss: -2542744.0000 - accuracy: 0.0000e+00 - val_loss: -2402608.5000 - val_accuracy: 0.0000e+00\n",
      "Epoch 19/100\n",
      "3/3 [==============================] - 0s 27ms/step - loss: -2542744.0000 - accuracy: 0.0000e+00 - val_loss: -2402608.5000 - val_accuracy: 0.0000e+00\n",
      "Epoch 20/100\n",
      "3/3 [==============================] - 0s 28ms/step - loss: -2542744.0000 - accuracy: 0.0000e+00 - val_loss: -2402608.5000 - val_accuracy: 0.0000e+00\n",
      "Epoch 21/100\n",
      "3/3 [==============================] - 0s 30ms/step - loss: -2542744.0000 - accuracy: 0.0000e+00 - val_loss: -2402608.5000 - val_accuracy: 0.0000e+00\n",
      "Epoch 22/100\n",
      "3/3 [==============================] - 0s 26ms/step - loss: -2542744.0000 - accuracy: 0.0000e+00 - val_loss: -2402608.5000 - val_accuracy: 0.0000e+00\n",
      "Epoch 23/100\n",
      "3/3 [==============================] - 0s 28ms/step - loss: -2542744.0000 - accuracy: 0.0000e+00 - val_loss: -2402608.5000 - val_accuracy: 0.0000e+00\n",
      "Epoch 24/100\n",
      "3/3 [==============================] - 0s 24ms/step - loss: -2542744.0000 - accuracy: 0.0000e+00 - val_loss: -2402608.5000 - val_accuracy: 0.0000e+00\n",
      "Epoch 25/100\n",
      "3/3 [==============================] - 0s 29ms/step - loss: -2542744.0000 - accuracy: 0.0000e+00 - val_loss: -2402608.5000 - val_accuracy: 0.0000e+00\n",
      "Epoch 26/100\n",
      "3/3 [==============================] - 0s 34ms/step - loss: -2542744.0000 - accuracy: 0.0000e+00 - val_loss: -2402608.5000 - val_accuracy: 0.0000e+00\n",
      "Epoch 27/100\n",
      "3/3 [==============================] - 0s 29ms/step - loss: -2542744.0000 - accuracy: 0.0000e+00 - val_loss: -2402608.5000 - val_accuracy: 0.0000e+00\n",
      "Epoch 28/100\n",
      "3/3 [==============================] - 0s 27ms/step - loss: -2542744.0000 - accuracy: 0.0000e+00 - val_loss: -2402608.5000 - val_accuracy: 0.0000e+00\n",
      "Epoch 29/100\n",
      "3/3 [==============================] - 0s 27ms/step - loss: -2542744.0000 - accuracy: 0.0000e+00 - val_loss: -2402608.5000 - val_accuracy: 0.0000e+00\n",
      "Epoch 30/100\n",
      "3/3 [==============================] - 0s 28ms/step - loss: -2542744.0000 - accuracy: 0.0000e+00 - val_loss: -2402608.5000 - val_accuracy: 0.0000e+00\n",
      "Epoch 31/100\n",
      "3/3 [==============================] - 0s 34ms/step - loss: -2542744.0000 - accuracy: 0.0000e+00 - val_loss: -2402608.5000 - val_accuracy: 0.0000e+00\n",
      "Epoch 32/100\n",
      "3/3 [==============================] - 0s 26ms/step - loss: -2542744.0000 - accuracy: 0.0000e+00 - val_loss: -2402608.5000 - val_accuracy: 0.0000e+00\n",
      "Epoch 33/100\n",
      "3/3 [==============================] - 0s 23ms/step - loss: -2542744.0000 - accuracy: 0.0000e+00 - val_loss: -2402608.5000 - val_accuracy: 0.0000e+00\n",
      "Epoch 34/100\n",
      "3/3 [==============================] - 0s 25ms/step - loss: -2542744.0000 - accuracy: 0.0000e+00 - val_loss: -2402608.5000 - val_accuracy: 0.0000e+00\n",
      "Epoch 35/100\n",
      "3/3 [==============================] - 0s 24ms/step - loss: -2542744.0000 - accuracy: 0.0000e+00 - val_loss: -2402608.5000 - val_accuracy: 0.0000e+00\n",
      "Epoch 36/100\n",
      "3/3 [==============================] - 0s 28ms/step - loss: -2542744.0000 - accuracy: 0.0000e+00 - val_loss: -2402608.5000 - val_accuracy: 0.0000e+00\n",
      "Epoch 37/100\n",
      "3/3 [==============================] - 0s 22ms/step - loss: -2542744.0000 - accuracy: 0.0000e+00 - val_loss: -2402608.5000 - val_accuracy: 0.0000e+00\n",
      "Epoch 38/100\n",
      "3/3 [==============================] - 0s 20ms/step - loss: -2542744.0000 - accuracy: 0.0000e+00 - val_loss: -2402608.5000 - val_accuracy: 0.0000e+00\n",
      "Epoch 39/100\n",
      "3/3 [==============================] - 0s 29ms/step - loss: -2542744.0000 - accuracy: 0.0000e+00 - val_loss: -2402608.5000 - val_accuracy: 0.0000e+00\n",
      "Epoch 40/100\n",
      "3/3 [==============================] - 0s 24ms/step - loss: -2542744.0000 - accuracy: 0.0000e+00 - val_loss: -2402608.5000 - val_accuracy: 0.0000e+00\n",
      "Epoch 41/100\n",
      "3/3 [==============================] - 0s 25ms/step - loss: -2542744.0000 - accuracy: 0.0000e+00 - val_loss: -2402608.5000 - val_accuracy: 0.0000e+00\n",
      "Epoch 42/100\n",
      "3/3 [==============================] - 0s 28ms/step - loss: -2542744.0000 - accuracy: 0.0000e+00 - val_loss: -2402608.5000 - val_accuracy: 0.0000e+00\n",
      "Epoch 43/100\n",
      "3/3 [==============================] - 0s 24ms/step - loss: -2542744.0000 - accuracy: 0.0000e+00 - val_loss: -2402608.5000 - val_accuracy: 0.0000e+00\n",
      "Epoch 44/100\n",
      "3/3 [==============================] - 0s 23ms/step - loss: -2542744.0000 - accuracy: 0.0000e+00 - val_loss: -2402608.5000 - val_accuracy: 0.0000e+00\n",
      "Epoch 45/100\n",
      "3/3 [==============================] - 0s 24ms/step - loss: -2542744.0000 - accuracy: 0.0000e+00 - val_loss: -2402608.5000 - val_accuracy: 0.0000e+00\n",
      "Epoch 46/100\n",
      "3/3 [==============================] - 0s 22ms/step - loss: -2542744.0000 - accuracy: 0.0000e+00 - val_loss: -2402608.5000 - val_accuracy: 0.0000e+00\n",
      "Epoch 47/100\n",
      "3/3 [==============================] - 0s 25ms/step - loss: -2542744.0000 - accuracy: 0.0000e+00 - val_loss: -2402608.5000 - val_accuracy: 0.0000e+00\n",
      "Epoch 48/100\n",
      "3/3 [==============================] - 0s 26ms/step - loss: -2542744.0000 - accuracy: 0.0000e+00 - val_loss: -2402608.5000 - val_accuracy: 0.0000e+00\n",
      "Epoch 49/100\n",
      "3/3 [==============================] - 0s 23ms/step - loss: -2542744.0000 - accuracy: 0.0000e+00 - val_loss: -2402608.5000 - val_accuracy: 0.0000e+00\n",
      "Epoch 50/100\n",
      "3/3 [==============================] - 0s 25ms/step - loss: -2542744.0000 - accuracy: 0.0000e+00 - val_loss: -2402608.5000 - val_accuracy: 0.0000e+00\n",
      "Epoch 51/100\n"
     ]
    },
    {
     "name": "stdout",
     "output_type": "stream",
     "text": [
      "3/3 [==============================] - 0s 25ms/step - loss: -2542744.0000 - accuracy: 0.0000e+00 - val_loss: -2402608.5000 - val_accuracy: 0.0000e+00\n",
      "Epoch 52/100\n",
      "3/3 [==============================] - 0s 29ms/step - loss: -2542744.0000 - accuracy: 0.0000e+00 - val_loss: -2402608.5000 - val_accuracy: 0.0000e+00\n",
      "Epoch 53/100\n",
      "3/3 [==============================] - 0s 34ms/step - loss: -2542744.0000 - accuracy: 0.0000e+00 - val_loss: -2402608.5000 - val_accuracy: 0.0000e+00\n",
      "Epoch 54/100\n",
      "3/3 [==============================] - 0s 30ms/step - loss: -2542744.0000 - accuracy: 0.0000e+00 - val_loss: -2402608.5000 - val_accuracy: 0.0000e+00\n",
      "Epoch 55/100\n",
      "3/3 [==============================] - 0s 37ms/step - loss: -2542744.0000 - accuracy: 0.0000e+00 - val_loss: -2402608.5000 - val_accuracy: 0.0000e+00\n",
      "Epoch 56/100\n",
      "3/3 [==============================] - 0s 25ms/step - loss: -2542744.0000 - accuracy: 0.0000e+00 - val_loss: -2402608.5000 - val_accuracy: 0.0000e+00\n",
      "Epoch 57/100\n",
      "3/3 [==============================] - 0s 30ms/step - loss: -2542743.7500 - accuracy: 0.0000e+00 - val_loss: -2402608.5000 - val_accuracy: 0.0000e+00\n",
      "Epoch 58/100\n",
      "3/3 [==============================] - 0s 22ms/step - loss: -2542744.0000 - accuracy: 0.0000e+00 - val_loss: -2402608.5000 - val_accuracy: 0.0000e+00\n",
      "Epoch 59/100\n",
      "3/3 [==============================] - 0s 25ms/step - loss: -2542744.0000 - accuracy: 0.0000e+00 - val_loss: -2402608.5000 - val_accuracy: 0.0000e+00\n",
      "Epoch 60/100\n",
      "3/3 [==============================] - 0s 28ms/step - loss: -2542744.0000 - accuracy: 0.0000e+00 - val_loss: -2402608.5000 - val_accuracy: 0.0000e+00\n",
      "Epoch 61/100\n",
      "3/3 [==============================] - 0s 25ms/step - loss: -2542744.0000 - accuracy: 0.0000e+00 - val_loss: -2402608.5000 - val_accuracy: 0.0000e+00\n",
      "Epoch 62/100\n",
      "3/3 [==============================] - 0s 27ms/step - loss: -2542744.0000 - accuracy: 0.0000e+00 - val_loss: -2402608.5000 - val_accuracy: 0.0000e+00\n",
      "Epoch 63/100\n",
      "3/3 [==============================] - 0s 24ms/step - loss: -2542744.0000 - accuracy: 0.0000e+00 - val_loss: -2402608.5000 - val_accuracy: 0.0000e+00\n",
      "Epoch 64/100\n",
      "3/3 [==============================] - 0s 24ms/step - loss: -2542744.0000 - accuracy: 0.0000e+00 - val_loss: -2402608.5000 - val_accuracy: 0.0000e+00\n",
      "Epoch 65/100\n",
      "3/3 [==============================] - 0s 27ms/step - loss: -2542744.0000 - accuracy: 0.0000e+00 - val_loss: -2402608.5000 - val_accuracy: 0.0000e+00\n",
      "Epoch 66/100\n",
      "3/3 [==============================] - 0s 24ms/step - loss: -2542744.0000 - accuracy: 0.0000e+00 - val_loss: -2402608.5000 - val_accuracy: 0.0000e+00\n",
      "Epoch 67/100\n",
      "3/3 [==============================] - 0s 23ms/step - loss: -2542744.0000 - accuracy: 0.0000e+00 - val_loss: -2402608.5000 - val_accuracy: 0.0000e+00\n",
      "Epoch 68/100\n",
      "3/3 [==============================] - 0s 32ms/step - loss: -2542744.0000 - accuracy: 0.0000e+00 - val_loss: -2402608.5000 - val_accuracy: 0.0000e+00\n",
      "Epoch 69/100\n",
      "3/3 [==============================] - 0s 27ms/step - loss: -2542744.0000 - accuracy: 0.0000e+00 - val_loss: -2402608.5000 - val_accuracy: 0.0000e+00\n",
      "Epoch 70/100\n",
      "3/3 [==============================] - 0s 24ms/step - loss: -2542744.0000 - accuracy: 0.0000e+00 - val_loss: -2402608.5000 - val_accuracy: 0.0000e+00\n",
      "Epoch 71/100\n",
      "3/3 [==============================] - 0s 29ms/step - loss: -2542744.0000 - accuracy: 0.0000e+00 - val_loss: -2402608.5000 - val_accuracy: 0.0000e+00\n",
      "Epoch 72/100\n",
      "3/3 [==============================] - 0s 26ms/step - loss: -2542744.0000 - accuracy: 0.0000e+00 - val_loss: -2402608.5000 - val_accuracy: 0.0000e+00\n",
      "Epoch 73/100\n",
      "3/3 [==============================] - 0s 27ms/step - loss: -2542744.0000 - accuracy: 0.0000e+00 - val_loss: -2402608.5000 - val_accuracy: 0.0000e+00\n",
      "Epoch 74/100\n",
      "3/3 [==============================] - 0s 27ms/step - loss: -2542744.0000 - accuracy: 0.0000e+00 - val_loss: -2402608.5000 - val_accuracy: 0.0000e+00\n",
      "Epoch 75/100\n",
      "3/3 [==============================] - 0s 30ms/step - loss: -2542744.0000 - accuracy: 0.0000e+00 - val_loss: -2402608.5000 - val_accuracy: 0.0000e+00\n",
      "Epoch 76/100\n",
      "3/3 [==============================] - 0s 24ms/step - loss: -2542744.0000 - accuracy: 0.0000e+00 - val_loss: -2402608.5000 - val_accuracy: 0.0000e+00\n",
      "Epoch 77/100\n",
      "3/3 [==============================] - 0s 36ms/step - loss: -2542744.0000 - accuracy: 0.0000e+00 - val_loss: -2402608.5000 - val_accuracy: 0.0000e+00\n",
      "Epoch 78/100\n",
      "3/3 [==============================] - 0s 36ms/step - loss: -2542744.0000 - accuracy: 0.0000e+00 - val_loss: -2402608.5000 - val_accuracy: 0.0000e+00\n",
      "Epoch 79/100\n",
      "3/3 [==============================] - 0s 26ms/step - loss: -2542744.2500 - accuracy: 0.0000e+00 - val_loss: -2402608.5000 - val_accuracy: 0.0000e+00\n",
      "Epoch 80/100\n",
      "3/3 [==============================] - 0s 26ms/step - loss: -2542744.0000 - accuracy: 0.0000e+00 - val_loss: -2402608.5000 - val_accuracy: 0.0000e+00\n",
      "Epoch 81/100\n",
      "3/3 [==============================] - 0s 24ms/step - loss: -2542744.0000 - accuracy: 0.0000e+00 - val_loss: -2402608.5000 - val_accuracy: 0.0000e+00\n",
      "Epoch 82/100\n",
      "3/3 [==============================] - 0s 25ms/step - loss: -2542743.7500 - accuracy: 0.0000e+00 - val_loss: -2402608.5000 - val_accuracy: 0.0000e+00\n",
      "Epoch 83/100\n",
      "3/3 [==============================] - 0s 27ms/step - loss: -2542744.0000 - accuracy: 0.0000e+00 - val_loss: -2402608.5000 - val_accuracy: 0.0000e+00\n",
      "Epoch 84/100\n",
      "3/3 [==============================] - 0s 26ms/step - loss: -2542744.0000 - accuracy: 0.0000e+00 - val_loss: -2402608.5000 - val_accuracy: 0.0000e+00\n",
      "Epoch 85/100\n",
      "3/3 [==============================] - 0s 26ms/step - loss: -2542744.0000 - accuracy: 0.0000e+00 - val_loss: -2402608.5000 - val_accuracy: 0.0000e+00\n",
      "Epoch 86/100\n",
      "3/3 [==============================] - 0s 37ms/step - loss: -2542744.0000 - accuracy: 0.0000e+00 - val_loss: -2402608.5000 - val_accuracy: 0.0000e+00\n",
      "Epoch 87/100\n",
      "3/3 [==============================] - 0s 28ms/step - loss: -2542744.0000 - accuracy: 0.0000e+00 - val_loss: -2402608.5000 - val_accuracy: 0.0000e+00\n",
      "Epoch 88/100\n",
      "3/3 [==============================] - 0s 24ms/step - loss: -2542744.0000 - accuracy: 0.0000e+00 - val_loss: -2402608.5000 - val_accuracy: 0.0000e+00\n",
      "Epoch 89/100\n",
      "3/3 [==============================] - 0s 31ms/step - loss: -2542744.0000 - accuracy: 0.0000e+00 - val_loss: -2402608.5000 - val_accuracy: 0.0000e+00\n",
      "Epoch 90/100\n",
      "3/3 [==============================] - 0s 40ms/step - loss: -2542744.0000 - accuracy: 0.0000e+00 - val_loss: -2402608.5000 - val_accuracy: 0.0000e+00\n",
      "Epoch 91/100\n",
      "3/3 [==============================] - 0s 27ms/step - loss: -2542744.0000 - accuracy: 0.0000e+00 - val_loss: -2402608.5000 - val_accuracy: 0.0000e+00\n",
      "Epoch 92/100\n",
      "3/3 [==============================] - 0s 33ms/step - loss: -2542744.0000 - accuracy: 0.0000e+00 - val_loss: -2402608.5000 - val_accuracy: 0.0000e+00\n",
      "Epoch 93/100\n",
      "3/3 [==============================] - 0s 30ms/step - loss: -2542744.0000 - accuracy: 0.0000e+00 - val_loss: -2402608.5000 - val_accuracy: 0.0000e+00\n",
      "Epoch 94/100\n",
      "3/3 [==============================] - 0s 23ms/step - loss: -2542744.0000 - accuracy: 0.0000e+00 - val_loss: -2402608.5000 - val_accuracy: 0.0000e+00\n",
      "Epoch 95/100\n",
      "3/3 [==============================] - 0s 30ms/step - loss: -2542744.0000 - accuracy: 0.0000e+00 - val_loss: -2402608.5000 - val_accuracy: 0.0000e+00\n",
      "Epoch 96/100\n",
      "3/3 [==============================] - 0s 25ms/step - loss: -2542744.0000 - accuracy: 0.0000e+00 - val_loss: -2402608.5000 - val_accuracy: 0.0000e+00\n",
      "Epoch 97/100\n",
      "3/3 [==============================] - 0s 29ms/step - loss: -2542744.0000 - accuracy: 0.0000e+00 - val_loss: -2402608.5000 - val_accuracy: 0.0000e+00\n",
      "Epoch 98/100\n",
      "3/3 [==============================] - 0s 34ms/step - loss: -2542744.0000 - accuracy: 0.0000e+00 - val_loss: -2402608.5000 - val_accuracy: 0.0000e+00\n",
      "Epoch 99/100\n",
      "3/3 [==============================] - 0s 29ms/step - loss: -2542744.0000 - accuracy: 0.0000e+00 - val_loss: -2402608.5000 - val_accuracy: 0.0000e+00\n",
      "Epoch 100/100\n",
      "3/3 [==============================] - 0s 35ms/step - loss: -2542744.0000 - accuracy: 0.0000e+00 - val_loss: -2402608.5000 - val_accuracy: 0.0000e+00\n"
     ]
    },
    {
     "data": {
      "text/plain": [
       "<keras.callbacks.History at 0x7f24e025bd00>"
      ]
     },
     "execution_count": 9,
     "metadata": {},
     "output_type": "execute_result"
    }
   ],
   "source": [
    "model.compile(loss='binary_crossentropy', optimizer='adam', metrics=['accuracy'])\n",
    "model.fit(x_train, y_train, epochs=100, validation_split=0.3)"
   ]
  },
  {
   "cell_type": "code",
   "execution_count": 12,
   "id": "81fcd57f",
   "metadata": {},
   "outputs": [
    {
     "name": "stdout",
     "output_type": "stream",
     "text": [
      "2/2 [==============================] - 0s 9ms/step\n",
      "0.0\n",
      "[[0 0 0 ... 0 0 0]\n",
      " [1 0 0 ... 0 0 0]\n",
      " [1 0 0 ... 0 0 0]\n",
      " ...\n",
      " [1 0 0 ... 0 0 0]\n",
      " [1 0 0 ... 0 0 0]\n",
      " [1 0 0 ... 0 0 0]]\n",
      "              precision    recall  f1-score   support\n",
      "\n",
      "           1       0.00      0.00      0.00       0.0\n",
      "       40794       0.00      0.00      0.00       1.0\n",
      "       40990       0.00      0.00      0.00       1.0\n",
      "       48950       0.00      0.00      0.00       1.0\n",
      "       52915       0.00      0.00      0.00       1.0\n",
      "       59942       0.00      0.00      0.00       1.0\n",
      "       65865       0.00      0.00      0.00       1.0\n",
      "       65900       0.00      0.00      0.00       1.0\n",
      "       65930       0.00      0.00      0.00       1.0\n",
      "       69380       0.00      0.00      0.00       1.0\n",
      "       70799       0.00      0.00      0.00       1.0\n",
      "       73330       0.00      0.00      0.00       1.0\n",
      "       73900       0.00      0.00      0.00       1.0\n",
      "       78381       0.00      0.00      0.00       1.0\n",
      "       84300       0.00      0.00      0.00       1.0\n",
      "       86500       0.00      0.00      0.00       1.0\n",
      "       91492       0.00      0.00      0.00       1.0\n",
      "       93818       0.00      0.00      0.00       1.0\n",
      "       95872       0.00      0.00      0.00       1.0\n",
      "      108000       0.00      0.00      0.00       1.0\n",
      "      111610       0.00      0.00      0.00       1.0\n",
      "      115800       0.00      0.00      0.00       1.0\n",
      "      115900       0.00      0.00      0.00       1.0\n",
      "      116800       0.00      0.00      0.00       1.0\n",
      "      123245       0.00      0.00      0.00       1.0\n",
      "      126000       0.00      0.00      0.00       1.0\n",
      "      127094       0.00      0.00      0.00       1.0\n",
      "      134800       0.00      0.00      0.00       1.0\n",
      "      138000       0.00      0.00      0.00       1.0\n",
      "      143300       0.00      0.00      0.00       1.0\n",
      "      144180       0.00      0.00      0.00       1.0\n",
      "      144900       0.00      0.00      0.00       1.0\n",
      "      154176       0.00      0.00      0.00       1.0\n",
      "      157600       0.00      0.00      0.00       1.0\n",
      "      158939       0.00      0.00      0.00       1.0\n",
      "      160900       0.00      0.00      0.00       1.0\n",
      "      180415       0.00      0.00      0.00       1.0\n",
      "      181900       0.00      0.00      0.00       1.0\n",
      "      196239       0.00      0.00      0.00       1.0\n",
      "      208187       0.00      0.00      0.00       1.0\n",
      "      215000       0.00      0.00      0.00       1.0\n",
      "      259000       0.00      0.00      0.00       1.0\n",
      "      949000       0.00      0.00      0.00       1.0\n",
      "\n",
      "    accuracy                           0.00      42.0\n",
      "   macro avg       0.00      0.00      0.00      42.0\n",
      "weighted avg       0.00      0.00      0.00      42.0\n",
      "\n"
     ]
    }
   ],
   "source": [
    "prediction = model.predict(x_test) > 0.5\n",
    "print(accuracy_score(y_test,prediction))\n",
    "print(confusion_matrix(y_test, prediction))\n",
    "print(classification_report(y_test, prediction))"
   ]
  },
  {
   "cell_type": "code",
   "execution_count": 6,
   "id": "a01a0b26",
   "metadata": {},
   "outputs": [
    {
     "data": {
      "text/html": [
       "<div>\n",
       "<style scoped>\n",
       "    .dataframe tbody tr th:only-of-type {\n",
       "        vertical-align: middle;\n",
       "    }\n",
       "\n",
       "    .dataframe tbody tr th {\n",
       "        vertical-align: top;\n",
       "    }\n",
       "\n",
       "    .dataframe thead th {\n",
       "        text-align: right;\n",
       "    }\n",
       "</style>\n",
       "<table border=\"1\" class=\"dataframe\">\n",
       "  <thead>\n",
       "    <tr style=\"text-align: right;\">\n",
       "      <th></th>\n",
       "      <th>class</th>\n",
       "      <th>array</th>\n",
       "    </tr>\n",
       "  </thead>\n",
       "  <tbody>\n",
       "    <tr>\n",
       "      <th>0</th>\n",
       "      <td>0</td>\n",
       "      <td>dog.160.jpg</td>\n",
       "    </tr>\n",
       "    <tr>\n",
       "      <th>1</th>\n",
       "      <td>0</td>\n",
       "      <td>dog.88.jpg</td>\n",
       "    </tr>\n",
       "    <tr>\n",
       "      <th>2</th>\n",
       "      <td>0</td>\n",
       "      <td>dog.156.jpg</td>\n",
       "    </tr>\n",
       "    <tr>\n",
       "      <th>3</th>\n",
       "      <td>0</td>\n",
       "      <td>dog.51.jpg</td>\n",
       "    </tr>\n",
       "    <tr>\n",
       "      <th>4</th>\n",
       "      <td>0</td>\n",
       "      <td>dog.116.jpg</td>\n",
       "    </tr>\n",
       "    <tr>\n",
       "      <th>...</th>\n",
       "      <td>...</td>\n",
       "      <td>...</td>\n",
       "    </tr>\n",
       "    <tr>\n",
       "      <th>819</th>\n",
       "      <td>2</td>\n",
       "      <td>carsgraz_041.bmp</td>\n",
       "    </tr>\n",
       "    <tr>\n",
       "      <th>820</th>\n",
       "      <td>2</td>\n",
       "      <td>carsgraz_301.bmp</td>\n",
       "    </tr>\n",
       "    <tr>\n",
       "      <th>821</th>\n",
       "      <td>2</td>\n",
       "      <td>carsgraz_232.bmp</td>\n",
       "    </tr>\n",
       "    <tr>\n",
       "      <th>822</th>\n",
       "      <td>2</td>\n",
       "      <td>carsgraz_242.bmp</td>\n",
       "    </tr>\n",
       "    <tr>\n",
       "      <th>823</th>\n",
       "      <td>2</td>\n",
       "      <td>carsgraz_101.bmp</td>\n",
       "    </tr>\n",
       "  </tbody>\n",
       "</table>\n",
       "<p>824 rows × 2 columns</p>\n",
       "</div>"
      ],
      "text/plain": [
       "     class             array\n",
       "0        0       dog.160.jpg\n",
       "1        0        dog.88.jpg\n",
       "2        0       dog.156.jpg\n",
       "3        0        dog.51.jpg\n",
       "4        0       dog.116.jpg\n",
       "..     ...               ...\n",
       "819      2  carsgraz_041.bmp\n",
       "820      2  carsgraz_301.bmp\n",
       "821      2  carsgraz_232.bmp\n",
       "822      2  carsgraz_242.bmp\n",
       "823      2  carsgraz_101.bmp\n",
       "\n",
       "[824 rows x 2 columns]"
      ]
     },
     "execution_count": 6,
     "metadata": {},
     "output_type": "execute_result"
    }
   ],
   "source": [
    "# Task 2\n",
    "classes = ['dogs','human','cars']\n",
    "classes_arr = []\n",
    "image_arr = []\n",
    "image_name = []\n",
    "class_id = 0\n",
    "for folder in classes:\n",
    "    for imagename in os.listdir(folder):\n",
    "        image_sample = load_img(os.path.join(folder,imagename),target_size=(50,50))\n",
    "        image_sample = img_to_array(image_sample)\n",
    "        image_arr.append(image_sample)\n",
    "        classes_arr.append(class_id)\n",
    "        image_name.append(imagename)\n",
    "    class_id+=1  \n",
    "image_arr = np.array(image_arr)    \n",
    "image_arr.shape\n",
    "image_arr /= 255\n",
    "image_arr[0]            \n",
    "image_data = {\"class\": classes_arr, \"array\": image_name}\n",
    "image_data = pd.DataFrame(image_data)\n",
    "image_data\n",
    "\n"
   ]
  },
  {
   "cell_type": "code",
   "execution_count": 9,
   "id": "5a94532a",
   "metadata": {},
   "outputs": [
    {
     "data": {
      "image/png": "[encoded data removed]",
      "text/plain": [
       "<Figure size 1800x1800 with 3 Axes>"
      ]
     },
     "metadata": {
      "needs_background": "light"
     },
     "output_type": "display_data"
    }
   ],
   "source": [
    "figure = plt.figure(figsize=(25,25))\n",
    "for i in range(3):\n",
    "    figures = figure.add_subplot(1,9,i+1)\n",
    "    figures.set_title(classes[i])\n",
    "    image = array_to_img(image_arr[204*i])\n",
    "    plt.imshow(image)"
   ]
  },
  {
   "cell_type": "code",
   "execution_count": 12,
   "id": "8455ca1f",
   "metadata": {},
   "outputs": [
    {
     "name": "stdout",
     "output_type": "stream",
     "text": [
      "Model: \"sequential_2\"\n",
      "_________________________________________________________________\n",
      " Layer (type)                Output Shape              Param #   \n",
      "=================================================================\n",
      " conv2d_6 (Conv2D)           (None, 50, 50, 16)        448       \n",
      "                                                                 \n",
      " leaky_re_lu_6 (LeakyReLU)   (None, 50, 50, 16)        0         \n",
      "                                                                 \n",
      " max_pooling2d_6 (MaxPooling  (None, 25, 25, 16)       0         \n",
      " 2D)                                                             \n",
      "                                                                 \n",
      " conv2d_7 (Conv2D)           (None, 25, 25, 32)        4640      \n",
      "                                                                 \n",
      " leaky_re_lu_7 (LeakyReLU)   (None, 25, 25, 32)        0         \n",
      "                                                                 \n",
      " max_pooling2d_7 (MaxPooling  (None, 13, 13, 32)       0         \n",
      " 2D)                                                             \n",
      "                                                                 \n",
      " conv2d_8 (Conv2D)           (None, 13, 13, 64)        18496     \n",
      "                                                                 \n",
      " max_pooling2d_8 (MaxPooling  (None, 7, 7, 64)         0         \n",
      " 2D)                                                             \n",
      "                                                                 \n",
      " flatten_2 (Flatten)         (None, 3136)              0         \n",
      "                                                                 \n",
      " dense_4 (Dense)             (None, 128)               401536    \n",
      "                                                                 \n",
      " leaky_re_lu_8 (LeakyReLU)   (None, 128)               0         \n",
      "                                                                 \n",
      " dense_5 (Dense)             (None, 4)                 516       \n",
      "                                                                 \n",
      "=================================================================\n",
      "Total params: 425,636\n",
      "Trainable params: 425,636\n",
      "Non-trainable params: 0\n",
      "_________________________________________________________________\n"
     ]
    }
   ],
   "source": [
    "x_train, x_test, y_train, y_test = train_test_split(image_arr, image_data['class'], test_size=0.30)\n",
    "y_train = np.asarray(y_train).astype(np.int32)\n",
    "y_test = np.asarray(y_test).astype(np.int32)\n",
    "y_train = tf.one_hot(y_train, 4)\n",
    "y_test = tf.one_hot(y_test, 4)\n",
    "alpha = 0.02\n",
    "model = keras.Sequential()\n",
    "model.add(layers.Conv2D(filters=16, kernel_size=(3, 3), padding=\"same\", input_shape=(50,50,3)))\n",
    "model.add(layers.LeakyReLU(alpha=alpha))\n",
    "model.add(layers.MaxPooling2D(pool_size=(2, 2), padding='same'))\n",
    "model.add(layers.Conv2D(filters=32, kernel_size=(3, 3), padding=\"same\"))\n",
    "model.add(layers.LeakyReLU(alpha=alpha))\n",
    "model.add(layers.MaxPooling2D(pool_size=(2, 2), padding='same'))\n",
    "model.add(layers.Conv2D(filters=64, kernel_size=(3, 3), padding=\"same\"))\n",
    "model.add(layers.MaxPooling2D(pool_size=(2, 2), padding='same'))\n",
    "model.add(layers.Flatten())\n",
    "model.add(layers.Dense(128))\n",
    "model.add(layers.LeakyReLU(alpha=alpha))\n",
    "model.add(layers.Dense(4, activation=\"softmax\"))\n",
    "model.compile(optimizer='adam', loss='categorical_crossentropy', metrics=['accuracy'])\n",
    "model.summary()"
   ]
  },
  {
   "cell_type": "code",
   "execution_count": 13,
   "id": "63c50592",
   "metadata": {},
   "outputs": [
    {
     "name": "stdout",
     "output_type": "stream",
     "text": [
      "Epoch 1/20\n",
      "15/15 [==============================] - 5s 154ms/step - loss: 1.0075 - accuracy: 0.5391 - val_loss: 0.9478 - val_accuracy: 0.5776\n",
      "Epoch 2/20\n",
      "15/15 [==============================] - 1s 94ms/step - loss: 0.6597 - accuracy: 0.7283 - val_loss: 0.7748 - val_accuracy: 0.6466\n",
      "Epoch 3/20\n",
      "15/15 [==============================] - 1s 70ms/step - loss: 0.5093 - accuracy: 0.8000 - val_loss: 0.5753 - val_accuracy: 0.7500\n",
      "Epoch 4/20\n",
      "15/15 [==============================] - 1s 58ms/step - loss: 0.4461 - accuracy: 0.8217 - val_loss: 0.5295 - val_accuracy: 0.7759\n",
      "Epoch 5/20\n",
      "15/15 [==============================] - 1s 59ms/step - loss: 0.4014 - accuracy: 0.8370 - val_loss: 0.5517 - val_accuracy: 0.7328\n",
      "Epoch 6/20\n",
      "15/15 [==============================] - 1s 67ms/step - loss: 0.3444 - accuracy: 0.8783 - val_loss: 0.4736 - val_accuracy: 0.8103\n",
      "Epoch 7/20\n",
      "15/15 [==============================] - 1s 58ms/step - loss: 0.3436 - accuracy: 0.8674 - val_loss: 0.4847 - val_accuracy: 0.8190\n",
      "Epoch 8/20\n",
      "15/15 [==============================] - 1s 57ms/step - loss: 0.2999 - accuracy: 0.8913 - val_loss: 0.4768 - val_accuracy: 0.8448\n",
      "Epoch 9/20\n",
      "15/15 [==============================] - 1s 60ms/step - loss: 0.2586 - accuracy: 0.8978 - val_loss: 0.5488 - val_accuracy: 0.7759\n",
      "Epoch 10/20\n",
      "15/15 [==============================] - 1s 85ms/step - loss: 0.1857 - accuracy: 0.9522 - val_loss: 0.4769 - val_accuracy: 0.8362\n",
      "Epoch 11/20\n",
      "15/15 [==============================] - 2s 105ms/step - loss: 0.1362 - accuracy: 0.9522 - val_loss: 0.4749 - val_accuracy: 0.8276\n",
      "Epoch 12/20\n",
      "15/15 [==============================] - 1s 95ms/step - loss: 0.0900 - accuracy: 0.9804 - val_loss: 0.4857 - val_accuracy: 0.8362\n",
      "Epoch 13/20\n",
      "15/15 [==============================] - 2s 103ms/step - loss: 0.0636 - accuracy: 0.9913 - val_loss: 0.5059 - val_accuracy: 0.8448\n",
      "Epoch 14/20\n",
      "15/15 [==============================] - 1s 67ms/step - loss: 0.0386 - accuracy: 0.9957 - val_loss: 0.5700 - val_accuracy: 0.8362\n",
      "Epoch 15/20\n",
      "15/15 [==============================] - 1s 51ms/step - loss: 0.0466 - accuracy: 0.9913 - val_loss: 0.5406 - val_accuracy: 0.8362\n",
      "Epoch 16/20\n",
      "15/15 [==============================] - 1s 63ms/step - loss: 0.0403 - accuracy: 0.9957 - val_loss: 0.5978 - val_accuracy: 0.8276\n",
      "Epoch 17/20\n",
      "15/15 [==============================] - 1s 58ms/step - loss: 0.0276 - accuracy: 0.9978 - val_loss: 0.6478 - val_accuracy: 0.8276\n",
      "Epoch 18/20\n",
      "15/15 [==============================] - 1s 71ms/step - loss: 0.0164 - accuracy: 1.0000 - val_loss: 0.6423 - val_accuracy: 0.8448\n",
      "Epoch 19/20\n",
      "15/15 [==============================] - 1s 84ms/step - loss: 0.0099 - accuracy: 1.0000 - val_loss: 0.6614 - val_accuracy: 0.8362\n",
      "Epoch 20/20\n",
      "15/15 [==============================] - 1s 69ms/step - loss: 0.0060 - accuracy: 1.0000 - val_loss: 0.6581 - val_accuracy: 0.8534\n"
     ]
    },
    {
     "data": {
      "text/plain": [
       "<keras.callbacks.History at 0x7fd06c5daa90>"
      ]
     },
     "execution_count": 13,
     "metadata": {},
     "output_type": "execute_result"
    }
   ],
   "source": [
    "model.fit(x_train, y_train, epochs=20, validation_split=0.2, verbose = 1)"
   ]
  },
  {
   "cell_type": "code",
   "execution_count": 14,
   "id": "eb5138dc",
   "metadata": {},
   "outputs": [
    {
     "name": "stdout",
     "output_type": "stream",
     "text": [
      "Test accuracy: 0.9704861044883728\n",
      "Test score: 0.1367466300725937\n"
     ]
    }
   ],
   "source": [
    "score = model.evaluate(x_train, y_train, verbose=0) \n",
    "print('Test accuracy:', score[1])\n",
    "print('Test score:', score[0]) "
   ]
  },
  {
   "cell_type": "code",
   "execution_count": 17,
   "id": "9ebf1810",
   "metadata": {},
   "outputs": [
    {
     "data": {
      "text/html": [
       "<div>\n",
       "<style scoped>\n",
       "    .dataframe tbody tr th:only-of-type {\n",
       "        vertical-align: middle;\n",
       "    }\n",
       "\n",
       "    .dataframe tbody tr th {\n",
       "        vertical-align: top;\n",
       "    }\n",
       "\n",
       "    .dataframe thead th {\n",
       "        text-align: right;\n",
       "    }\n",
       "</style>\n",
       "<table border=\"1\" class=\"dataframe\">\n",
       "  <thead>\n",
       "    <tr style=\"text-align: right;\">\n",
       "      <th></th>\n",
       "      <th>Review</th>\n",
       "      <th>Rating</th>\n",
       "    </tr>\n",
       "  </thead>\n",
       "  <tbody>\n",
       "    <tr>\n",
       "      <th>0</th>\n",
       "      <td>nice hotel expensive parking got good deal sta...</td>\n",
       "      <td>4</td>\n",
       "    </tr>\n",
       "    <tr>\n",
       "      <th>1</th>\n",
       "      <td>ok nothing special charge diamond member hilto...</td>\n",
       "      <td>2</td>\n",
       "    </tr>\n",
       "    <tr>\n",
       "      <th>2</th>\n",
       "      <td>nice rooms not 4* experience hotel monaco seat...</td>\n",
       "      <td>3</td>\n",
       "    </tr>\n",
       "    <tr>\n",
       "      <th>3</th>\n",
       "      <td>unique, great stay, wonderful time hotel monac...</td>\n",
       "      <td>5</td>\n",
       "    </tr>\n",
       "    <tr>\n",
       "      <th>4</th>\n",
       "      <td>great stay great stay, went seahawk game aweso...</td>\n",
       "      <td>5</td>\n",
       "    </tr>\n",
       "  </tbody>\n",
       "</table>\n",
       "</div>"
      ],
      "text/plain": [
       "                                              Review  Rating\n",
       "0  nice hotel expensive parking got good deal sta...       4\n",
       "1  ok nothing special charge diamond member hilto...       2\n",
       "2  nice rooms not 4* experience hotel monaco seat...       3\n",
       "3  unique, great stay, wonderful time hotel monac...       5\n",
       "4  great stay great stay, went seahawk game aweso...       5"
      ]
     },
     "execution_count": 17,
     "metadata": {},
     "output_type": "execute_result"
    }
   ],
   "source": [
    "# Task 3\n",
    "text_data = pd.read_csv(\"/home/Stoliarchuk/tripadvisor_hotel_reviews.csv\", names=['Review', 'Rating'], header=0, encoding='utf-8')\n",
    "text_data.head()"
   ]
  },
  {
   "cell_type": "code",
   "execution_count": 19,
   "id": "2d25c62e",
   "metadata": {},
   "outputs": [
    {
     "name": "stdout",
     "output_type": "stream",
     "text": [
      "min_length: 44\n",
      "max_length: 13501\n",
      "mean_size: 724.896832755844\n",
      "median_size: 537.0\n"
     ]
    },
    {
     "data": {
      "text/plain": [
       "5    9054\n",
       "4    6039\n",
       "3    2184\n",
       "2    1793\n",
       "1    1421\n",
       "Name: Rating, dtype: int64"
      ]
     },
     "execution_count": 19,
     "metadata": {},
     "output_type": "execute_result"
    }
   ],
   "source": [
    "length = list(map(len, text_data.Review.values))\n",
    "print('min_length:',np.min(length))\n",
    "print('max_length:',np.max(length))\n",
    "print('mean_size:',np.mean(length))\n",
    "print('median_size:',np.median(length))\n",
    "text_data.Rating.value_counts()"
   ]
  },
  {
   "cell_type": "code",
   "execution_count": 26,
   "id": "aa293581",
   "metadata": {},
   "outputs": [],
   "source": [
    "dict_length = 1000\n",
    "input_length = 50\n",
    "tokenizer = Tokenizer(num_words=dict_length)\n",
    "tokenizer.fit_on_texts(text_data.Review.values)\n",
    "post_seq = tokenizer.texts_to_sequences(text_data.Review.values)\n",
    "post_seq_padded = pad_sequences(post_seq, maxlen=input_length)\n",
    "x_f = post_seq_padded\n",
    "x_first = np.array(x_f)\n",
    "y_f = text_data['Rating'].values\n",
    "y_first = np.array(y_f)\n",
    "x, y = shuffle(x_first, y_first, random_state=23)\n",
    "x_train, x_validation, y_train, y_validation = train_test_split(x, y, test_size=0.3, random_state=23)\n",
    "x_train, x_test, y_train, y_test = train_test_split(x_train, y_train, test_size=0.2, random_state=23)"
   ]
  },
  {
   "cell_type": "code",
   "execution_count": 27,
   "id": "5b2b2ff7",
   "metadata": {},
   "outputs": [
    {
     "name": "stdout",
     "output_type": "stream",
     "text": [
      "Model: \"sequential_3\"\n",
      "_________________________________________________________________\n",
      " Layer (type)                Output Shape              Param #   \n",
      "=================================================================\n",
      " embedding_1 (Embedding)     (None, 50, 2)             2000      \n",
      "                                                                 \n",
      " dense_6 (Dense)             (None, 50, 32)            96        \n",
      "                                                                 \n",
      " dense_7 (Dense)             (None, 50, 32)            1056      \n",
      "                                                                 \n",
      " bidirectional_3 (Bidirectio  (None, 50, 32)           1568      \n",
      " nal)                                                            \n",
      "                                                                 \n",
      " bidirectional_4 (Bidirectio  (None, 50, 32)           1568      \n",
      " nal)                                                            \n",
      "                                                                 \n",
      " bidirectional_5 (Bidirectio  (None, 32)               1568      \n",
      " nal)                                                            \n",
      "                                                                 \n",
      " dense_8 (Dense)             (None, 1)                 33        \n",
      "                                                                 \n",
      "=================================================================\n",
      "Total params: 7,889\n",
      "Trainable params: 7,889\n",
      "Non-trainable params: 0\n",
      "_________________________________________________________________\n"
     ]
    }
   ],
   "source": [
    "model = Sequential()\n",
    "model.add(Embedding(dict_length, 2, input_length=input_length))\n",
    "model.add(Dense(32,activation=\"relu\"))\n",
    "model.add(Dense(32,activation=\"relu\"))\n",
    "model.add(Bidirectional(SimpleRNN(16, return_sequences=True)))\n",
    "model.add(Bidirectional(SimpleRNN(16, return_sequences=True)))\n",
    "model.add(Bidirectional(SimpleRNN(16, return_sequences=False)))\n",
    "model.add(Dense(1, activation='sigmoid'))\n",
    "model.summary()"
   ]
  },
  {
   "cell_type": "code",
   "execution_count": 28,
   "id": "7a91c9c3",
   "metadata": {},
   "outputs": [
    {
     "name": "stdout",
     "output_type": "stream",
     "text": [
      "Epoch 1/10\n",
      "45/45 [==============================] - 23s 196ms/step - loss: -11.2550 - accuracy: 0.0670 - val_loss: -19.2426 - val_accuracy: 0.0711\n",
      "Epoch 2/10\n",
      "45/45 [==============================] - 5s 116ms/step - loss: -22.6472 - accuracy: 0.0687 - val_loss: -25.9340 - val_accuracy: 0.0711\n",
      "Epoch 3/10\n",
      "45/45 [==============================] - 4s 100ms/step - loss: -28.6408 - accuracy: 0.0687 - val_loss: -31.4984 - val_accuracy: 0.0711\n",
      "Epoch 4/10\n",
      "45/45 [==============================] - 5s 102ms/step - loss: -33.9542 - accuracy: 0.0687 - val_loss: -36.6046 - val_accuracy: 0.0711\n",
      "Epoch 5/10\n",
      "45/45 [==============================] - 4s 92ms/step - loss: -38.9373 - accuracy: 0.0687 - val_loss: -41.4988 - val_accuracy: 0.0711\n",
      "Epoch 6/10\n",
      "45/45 [==============================] - 5s 118ms/step - loss: -43.7578 - accuracy: 0.0687 - val_loss: -46.2666 - val_accuracy: 0.0711\n",
      "Epoch 7/10\n",
      "45/45 [==============================] - 5s 112ms/step - loss: -48.4753 - accuracy: 0.0687 - val_loss: -50.9675 - val_accuracy: 0.0711\n",
      "Epoch 8/10\n",
      "45/45 [==============================] - 4s 95ms/step - loss: -53.1347 - accuracy: 0.0687 - val_loss: -55.6006 - val_accuracy: 0.0711\n",
      "Epoch 9/10\n",
      "45/45 [==============================] - 4s 92ms/step - loss: -57.7430 - accuracy: 0.0687 - val_loss: -60.2015 - val_accuracy: 0.0711\n",
      "Epoch 10/10\n",
      "45/45 [==============================] - 5s 121ms/step - loss: -62.3202 - accuracy: 0.0687 - val_loss: -64.7692 - val_accuracy: 0.0711\n"
     ]
    }
   ],
   "source": [
    "model.compile(loss='binary_crossentropy', optimizer='adam', metrics=['accuracy'])\n",
    "history = model.fit(x=x_train, y=y_train, batch_size=256, verbose=1, epochs=10, validation_data=(x_validation, y_validation))"
   ]
  },
  {
   "cell_type": "code",
   "execution_count": 33,
   "id": "61e0c1ef",
   "metadata": {},
   "outputs": [
    {
     "name": "stdout",
     "output_type": "stream",
     "text": [
      "Test accuracy: 0.06867700815200806\n",
      "Test score: -64.65760803222656\n"
     ]
    }
   ],
   "source": [
    "score = model.evaluate(x_train, y_train, verbose=0) \n",
    "print('Test accuracy:', score[1])\n",
    "print('Test score:', score[0]) "
   ]
  }
 ],
 "metadata": {
  "kernelspec": {
   "display_name": "Python 3 (ipykernel)",
   "language": "python",
   "name": "python3"
  },
  "language_info": {
   "codemirror_mode": {
    "name": "ipython",
    "version": 3
   },
   "file_extension": ".py",
   "mimetype": "text/x-python",
   "name": "python",
   "nbconvert_exporter": "python",
   "pygments_lexer": "ipython3",
   "version": "3.9.8"
  }
 },
 "nbformat": 4,
 "nbformat_minor": 5
}
